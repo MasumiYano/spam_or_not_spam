{
 "cells": [
  {
   "cell_type": "markdown",
   "id": "7f1eca04",
   "metadata": {},
   "source": [
    "## Import Dataset from UCI"
   ]
  },
  {
   "cell_type": "code",
   "execution_count": 1,
   "id": "2ab1da1a",
   "metadata": {},
   "outputs": [],
   "source": [
    "from ucimlrepo import fetch_ucirepo\n",
    "import numpy as np\n",
    "\n",
    "spam_base = fetch_ucirepo(id=94)\n",
    "X = spam_base.data.features\n",
    "y = spam_base.data.targets"
   ]
  },
  {
   "cell_type": "code",
   "execution_count": 2,
   "id": "4ee0d02c",
   "metadata": {},
   "outputs": [
    {
     "data": {
      "text/plain": [
       "array([[0.000e+00, 6.400e-01, 6.400e-01, ..., 3.756e+00, 6.100e+01,\n",
       "        2.780e+02],\n",
       "       [2.100e-01, 2.800e-01, 5.000e-01, ..., 5.114e+00, 1.010e+02,\n",
       "        1.028e+03],\n",
       "       [6.000e-02, 0.000e+00, 7.100e-01, ..., 9.821e+00, 4.850e+02,\n",
       "        2.259e+03],\n",
       "       ...,\n",
       "       [3.000e-01, 0.000e+00, 3.000e-01, ..., 1.404e+00, 6.000e+00,\n",
       "        1.180e+02],\n",
       "       [9.600e-01, 0.000e+00, 0.000e+00, ..., 1.147e+00, 5.000e+00,\n",
       "        7.800e+01],\n",
       "       [0.000e+00, 0.000e+00, 6.500e-01, ..., 1.250e+00, 5.000e+00,\n",
       "        4.000e+01]])"
      ]
     },
     "execution_count": 2,
     "metadata": {},
     "output_type": "execute_result"
    }
   ],
   "source": [
    "X = X.values\n",
    "X"
   ]
  },
  {
   "cell_type": "code",
   "execution_count": 3,
   "id": "a2dc6a61",
   "metadata": {},
   "outputs": [
    {
     "data": {
      "text/plain": [
       "array([1, 1, 1, ..., 0, 0, 0])"
      ]
     },
     "execution_count": 3,
     "metadata": {},
     "output_type": "execute_result"
    }
   ],
   "source": [
    "y = y.to_numpy().ravel()\n",
    "y"
   ]
  },
  {
   "cell_type": "markdown",
   "id": "3945b205",
   "metadata": {},
   "source": [
    "## Reducing the dimensionality of DataFrame to 1-d"
   ]
  },
  {
   "cell_type": "markdown",
   "id": "ad3cbb85",
   "metadata": {},
   "source": [
    "## Split dataset into train and test"
   ]
  },
  {
   "cell_type": "code",
   "execution_count": 4,
   "id": "5099d09c",
   "metadata": {},
   "outputs": [],
   "source": [
    "from sklearn.model_selection import train_test_split\n",
    "\n",
    "X_train, X_test, y_train, y_test = train_test_split(X, y, test_size=0.3, stratify=y, random_state=1)"
   ]
  },
  {
   "cell_type": "markdown",
   "id": "7bac7d45",
   "metadata": {},
   "source": [
    "## Make pipline using sklearn and train model"
   ]
  },
  {
   "cell_type": "code",
   "execution_count": 5,
   "id": "6543edc5",
   "metadata": {},
   "outputs": [
    {
     "name": "stdout",
     "output_type": "stream",
     "text": [
      "Test Accuracy: 0.931\n"
     ]
    }
   ],
   "source": [
    "from sklearn.preprocessing import StandardScaler\n",
    "from sklearn.decomposition import PCA\n",
    "from sklearn.ensemble import RandomForestClassifier\n",
    "from sklearn.pipeline import make_pipeline\n",
    "\n",
    "pipe_rfc = make_pipeline(StandardScaler(),\n",
    "                        PCA(n_components=8),\n",
    "                        RandomForestClassifier(n_estimators=100))\n",
    "\n",
    "pipe_rfc.fit(X_train, y_train)\n",
    "y_pred = pipe_rfc.predict(X_test)\n",
    "print(f'Test Accuracy: {pipe_rfc.score(X_test, y_test):.3f}')"
   ]
  },
  {
   "cell_type": "code",
   "execution_count": 6,
   "id": "25c1108d",
   "metadata": {},
   "outputs": [
    {
     "name": "stdout",
     "output_type": "stream",
     "text": [
      "Fold: 1, Class dist: [1755 1143], Acc: 0.932\n",
      "Fold: 2, Class dist: [1756 1142], Acc: 0.919\n",
      "Fold: 3, Class dist: [1756 1142], Acc: 0.904\n",
      "Fold: 4, Class dist: [1756 1142], Acc: 0.938\n",
      "Fold: 5, Class dist: [1756 1142], Acc: 0.901\n",
      "Fold: 6, Class dist: [1756 1142], Acc: 0.916\n",
      "Fold: 7, Class dist: [1756 1142], Acc: 0.904\n",
      "Fold: 8, Class dist: [1756 1142], Acc: 0.904\n",
      "Fold: 9, Class dist: [1756 1142], Acc: 0.901\n",
      "Fold: 10, Class dist: [1756 1142], Acc: 0.885\n"
     ]
    }
   ],
   "source": [
    "from sklearn.model_selection import StratifiedKFold\n",
    "\n",
    "kfold = StratifiedKFold(n_splits=10).split(X_train, y_train)\n",
    "scores = []\n",
    "\n",
    "for k, (train, test) in enumerate(kfold):\n",
    "    pipe_rfc.fit(X_train[train], y_train[train])\n",
    "    score = pipe_rfc.score(X_train[test], y_train[test])\n",
    "    scores.append(score)\n",
    "    print(f'Fold: {k+1}, Class dist: {np.bincount(y_train[train])}, Acc: {score:.3f}')"
   ]
  },
  {
   "cell_type": "code",
   "execution_count": 7,
   "id": "f5deae1c",
   "metadata": {},
   "outputs": [
    {
     "name": "stdout",
     "output_type": "stream",
     "text": [
      "The average accuracy: 0.910 +/- 0.015\n"
     ]
    }
   ],
   "source": [
    "print(f'The average accuracy: {np.mean(scores):.3f} +/- {np.std(scores):.3f}')"
   ]
  },
  {
   "cell_type": "code",
   "execution_count": null,
   "id": "304493fb",
   "metadata": {},
   "outputs": [],
   "source": []
  }
 ],
 "metadata": {
  "kernelspec": {
   "display_name": "Python 3 (ipykernel)",
   "language": "python",
   "name": "python3"
  },
  "language_info": {
   "codemirror_mode": {
    "name": "ipython",
    "version": 3
   },
   "file_extension": ".py",
   "mimetype": "text/x-python",
   "name": "python",
   "nbconvert_exporter": "python",
   "pygments_lexer": "ipython3",
   "version": "3.11.5"
  }
 },
 "nbformat": 4,
 "nbformat_minor": 5
}
